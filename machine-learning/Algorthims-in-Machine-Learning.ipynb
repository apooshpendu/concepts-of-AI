{
 "cells": [
  {
   "cell_type": "markdown",
   "id": "designing-peter",
   "metadata": {},
   "source": [
    "## Supervised Learning"
   ]
  },
  {
   "cell_type": "markdown",
   "id": "infrared-guest",
   "metadata": {},
   "source": [
    "### 1. Linear Regression\n",
    "One of the supervised machine learning problem that observes continuous features and predicts an outcome. It can be used for one or more variables. It is mostly used for value estimation from continuous variables.\n",
    "\n",
    "##### Advantages:\n",
    "1. Exceptionally well for linearly separable data\n",
    "2. Easy to implement\n",
    "\n",
    "##### Disadvantages:\n",
    "1. Prone to noise and overfitting (can be resolved using dimension reduction and regularization)\n",
    "2. Sensitive to outlier data.\n",
    "\n",
    "##### Use cases:\n",
    "1. Forecasting\n",
    "2. Risk analysis\n",
    "3. Price prediction"
   ]
  },
  {
   "cell_type": "code",
   "execution_count": 60,
   "id": "tutorial-train",
   "metadata": {},
   "outputs": [],
   "source": [
    "# Importing libraries\n",
    "import matplotlib.pyplot as plt\n",
    "import numpy as np\n",
    "from sklearn import datasets, linear_model\n",
    "from sklearn.metrics import mean_squared_error, r2_score"
   ]
  },
  {
   "cell_type": "code",
   "execution_count": 61,
   "id": "relative-forty",
   "metadata": {},
   "outputs": [
    {
     "name": "stdout",
     "output_type": "stream",
     "text": [
      "<class 'sklearn.utils.Bunch'>\n",
      "(442, 1)\n"
     ]
    }
   ],
   "source": [
    "# Loading dataset\n",
    "diabetes_X, diabetes_y = datasets.load_diabetes(return_X_y=True)\n",
    "diabetes_X = diabetes_X[:, np.newaxis, 2]\n",
    "print(type(diabetes))\n",
    "print(diabetes_X.shape)"
   ]
  },
  {
   "cell_type": "code",
   "execution_count": 63,
   "id": "potential-siemens",
   "metadata": {},
   "outputs": [
    {
     "name": "stdout",
     "output_type": "stream",
     "text": [
      "(20, 1)\n",
      "20\n"
     ]
    }
   ],
   "source": [
    "# Split the data into training/testing sets\n",
    "diabetes_X_train = diabetes_X[:-20]\n",
    "diabetes_X_test = diabetes_X[-20:]\n",
    "\n",
    "# Split the targets into training/testing sets\n",
    "diabetes_y_train = diabetes_y[:-20]\n",
    "diabetes_y_test = diabetes_y[-20:]\n",
    "\n",
    "print(diabetes_X_test.shape)\n",
    "print(diabetes_y_test.size)"
   ]
  },
  {
   "cell_type": "code",
   "execution_count": 64,
   "id": "secure-batch",
   "metadata": {},
   "outputs": [
    {
     "data": {
      "text/plain": [
       "LinearRegression()"
      ]
     },
     "execution_count": 64,
     "metadata": {},
     "output_type": "execute_result"
    }
   ],
   "source": [
    "# Create linear regression object\n",
    "regr = linear_model.LinearRegression()\n",
    "# Train the model using the training sets\n",
    "regr.fit(diabetes_X_train, diabetes_y_train)"
   ]
  },
  {
   "cell_type": "code",
   "execution_count": 65,
   "id": "rental-conservative",
   "metadata": {},
   "outputs": [
    {
     "name": "stdout",
     "output_type": "stream",
     "text": [
      "Coefficients: \n",
      " [938.23786125]\n"
     ]
    }
   ],
   "source": [
    "# Make predictions using the testing set\n",
    "diabetes_y_pred = regr.predict(diabetes_X_test)\n",
    "# The coefficients\n",
    "print('Coefficients: \\n', regr.coef_)"
   ]
  },
  {
   "cell_type": "code",
   "execution_count": 66,
   "id": "narrow-holly",
   "metadata": {},
   "outputs": [
    {
     "name": "stdout",
     "output_type": "stream",
     "text": [
      "Mean squared error: 2548.07\n"
     ]
    }
   ],
   "source": [
    "# The mean squared error\n",
    "print('Mean squared error: %.2f'\n",
    "      % mean_squared_error(diabetes_y_test, diabetes_y_pred))"
   ]
  },
  {
   "cell_type": "code",
   "execution_count": 67,
   "id": "saving-weather",
   "metadata": {},
   "outputs": [
    {
     "name": "stdout",
     "output_type": "stream",
     "text": [
      "Coefficient of determination: 0.47\n"
     ]
    }
   ],
   "source": [
    "# The coefficient of determination: 1 is perfect prediction\n",
    "print('Coefficient of determination: %.2f'\n",
    "      % r2_score(diabetes_y_test, diabetes_y_pred))"
   ]
  },
  {
   "cell_type": "code",
   "execution_count": 68,
   "id": "guided-gibraltar",
   "metadata": {},
   "outputs": [
    {
     "data": {
      "image/png": "[encoded data removed]",
      "text/plain": [
       "<Figure size 432x288 with 1 Axes>"
      ]
     },
     "metadata": {},
     "output_type": "display_data"
    }
   ],
   "source": [
    "# Plot output\n",
    "plt.scatter(diabetes_X_test, diabetes_y_test,color = 'lavender')\n",
    "plt.plot(diabetes_X_test, diabetes_y_pred,color = 'pink',linewidth = 2)\n",
    "plt.xticks(())\n",
    "plt.yticks(())\n",
    "plt.show()"
   ]
  },
  {
   "cell_type": "markdown",
   "id": "billion-dictionary",
   "metadata": {},
   "source": [
    "### 2. Logistic Regression\n",
    "Supervised classification technique in Machine Learning which is used to estimate discrete values. It uses logistic function to predict probability between 0 and 1.\n",
    "\n",
    "##### Advantages:\n",
    "1. Best for binary classification\n",
    "2. Easy to implement without requiring too many computational resource\n",
    "\n",
    "##### Disadvantages:\n",
    "1. Cannot solve non-linear problems because of linear decision surface\n",
    "2. Same as linear regression, it is prone to overfitting.\n",
    "\n",
    "##### Use cases:\n",
    "1. Binary classification\n",
    "2. Multiclass classification in a few cases (i.e. with small dataset)"
   ]
  },
  {
   "cell_type": "code",
   "execution_count": 43,
   "id": "moral-beach",
   "metadata": {},
   "outputs": [],
   "source": [
    "# Importing libraries\n",
    "import numpy as np\n",
    "import matplotlib.pyplot as plt\n",
    "from sklearn import linear_model"
   ]
  },
  {
   "cell_type": "code",
   "execution_count": 55,
   "id": "vocal-accident",
   "metadata": {},
   "outputs": [
    {
     "name": "stdout",
     "output_type": "stream",
     "text": [
      "(77, 1)\n",
      "(77,)\n"
     ]
    }
   ],
   "source": [
    "# Creating dataset\n",
    "xmin,xmax = -7,7 #Test set; straight line with Gaussian noise\n",
    "n_samples = 77\n",
    "np.random.seed(0)\n",
    "x = np.random.normal(size = n_samples)\n",
    "y = (x > 0).astype(np.float)\n",
    "x[x > 0] *= 3\n",
    "x += .4 * np.random.normal(size = n_samples)\n",
    "x = x[:, np.newaxis]\n",
    "\n",
    "print(x.shape)\n",
    "print(y.shape)"
   ]
  },
  {
   "cell_type": "code",
   "execution_count": 45,
   "id": "demographic-there",
   "metadata": {},
   "outputs": [
    {
     "data": {
      "text/plain": [
       "LogisticRegression(C=10000.0)"
      ]
     },
     "execution_count": 45,
     "metadata": {},
     "output_type": "execute_result"
    }
   ],
   "source": [
    "# Creating logistic regression classifier\n",
    "clf = linear_model.LogisticRegression(C = 1e4)\n",
    "clf.fit(x, y)"
   ]
  },
  {
   "cell_type": "code",
   "execution_count": 52,
   "id": "covered-toolbox",
   "metadata": {},
   "outputs": [
    {
     "data": {
      "image/png": "[encoded data removed]",
      "text/plain": [
       "<Figure size 216x288 with 1 Axes>"
      ]
     },
     "metadata": {
      "needs_background": "light"
     },
     "output_type": "display_data"
    }
   ],
   "source": [
    "# Scatter plot for logistic regression\n",
    "plt.figure(1, figsize = (3, 4))\n",
    "plt.clf()\n",
    "plt.scatter(x.ravel(), y, color = 'lavender', zorder = 17)\n",
    "\n",
    "# Curve plot for logistic regression\n",
    "x_test = np.linspace(-7, 7, 277)\n",
    "def model(x):\n",
    "    return 1 / (1 + np.exp(-x))\n",
    "loss = model(x_test * clf.coef_ + clf.intercept_).ravel()\n",
    "plt.plot(x_test,loss, color = 'pink', linewidth = 2.5)\n",
    "\n",
    "# Line plot for linear regression\n",
    "ols = linear_model.LinearRegression()\n",
    "ols.fit(x, y)\n",
    "plt.plot(x_test, ols.coef_ * x_test + ols.intercept_, linewidth = 1)\n",
    "plt.axhline(.4,color='.4')\n",
    "\n",
    "# Setting labels\n",
    "plt.ylabel('y')\n",
    "plt.xlabel('x')\n",
    "plt.xticks(range(-7, 7))\n",
    "plt.yticks([0, 0.4,1])\n",
    "plt.ylim(-.25, 1.25)\n",
    "plt.xlim(-4, 10)\n",
    "plt.legend(('Logistic Regression','Linear Regression'),loc = 'lower right', fontsize = 'small')\n",
    "plt.show()"
   ]
  },
  {
   "cell_type": "markdown",
   "id": "hollywood-morocco",
   "metadata": {},
   "source": [
    "### 3. Decision Tree\n",
    "A supervised Machine Learning algorthim that can be used for both classification and regression, but mostly for classification. It uses tree-like traversal to compare important features with a conditional statement. It works with both categorical and continuous dependent variables.\n",
    "\n",
    "##### Advantages:\n",
    "1. Very few hyperparamters\n",
    "2. Easy to explain as it follows human approach to ake decision\n",
    "\n",
    "##### Disadvantages:\n",
    "1. High probability of overfitting\n",
    "2. Gives low prediction accuracy in comparison to other ML algorithms\n",
    "\n",
    "##### Use cases:\n",
    "1. Data exploration\n",
    "2. Pattern recognition\n",
    "3. Price prediction"
   ]
  },
  {
   "cell_type": "code",
   "execution_count": 83,
   "id": "unexpected-biology",
   "metadata": {},
   "outputs": [],
   "source": [
    "Importing libraries\n",
    "import numpy as np\n",
    "import pandas as pd\n",
    "from sklearn.model_selection import train_test_split\n",
    "from sklearn.tree import DecisionTreeClassifier\n",
    "from sklearn.metrics import accuracy_score\n",
    "from sklearn import tree"
   ]
  },
  {
   "cell_type": "code",
   "execution_count": 84,
   "id": "developmental-grammar",
   "metadata": {},
   "outputs": [],
   "source": [
    "# Importing dataset\n",
    "def importdata():\n",
    "    balance_data = pd.read_csv(\"https://archive.ics.uci.edu/ml/\"\n",
    "                               + \"machine-learning-databases/balance-scale/balance-scale.data\",\n",
    "                           sep = ',', header = None)\n",
    "    print(len(balance_data))\n",
    "    print(balance_data.shape)\n",
    "    print(balance_data.head())\n",
    "    return balance_data"
   ]
  },
  {
   "cell_type": "code",
   "execution_count": 72,
   "id": "soviet-african",
   "metadata": {},
   "outputs": [],
   "source": [
    "# Splitting dataset\n",
    "def splitdataset(balance_data):\n",
    "    x = balance_data.values[:,1:5]\n",
    "    y = balance_data.values[:,0]\n",
    "    x_train, x_test, y_train, y_test = train_test_split(\n",
    "                            x, y, test_size = 0.3, random_state = 100)\n",
    "    return x, y, x_train, x_test, y_train, y_test"
   ]
  },
  {
   "cell_type": "code",
   "execution_count": 73,
   "id": "american-cycling",
   "metadata": {},
   "outputs": [],
   "source": [
    "# Training with giniIndex\n",
    "def train_using_gini(x_train, x_test, y_train):\n",
    "    clf_gini = DecisionTreeClassifier(criterion = \"gini\",\n",
    "    random_state = 100, max_depth = 3, min_samples_leaf = 5)\n",
    "    clf_gini.fit(x_train,y_train)\n",
    "    return clf_gini"
   ]
  },
  {
   "cell_type": "code",
   "execution_count": 74,
   "id": "yellow-officer",
   "metadata": {},
   "outputs": [],
   "source": [
    "# Training with entropy\n",
    "def train_using_entropy(x_train,x_test,y_train):\n",
    "    clf_entropy = DecisionTreeClassifier(\n",
    "    criterion = \"entropy\", random_state = 100,\n",
    "    max_depth = 3, min_samples_leaf = 5)\n",
    "    clf_entropy.fit(x_train,y_train)\n",
    "    return clf_entropy"
   ]
  },
  {
   "cell_type": "code",
   "execution_count": 75,
   "id": "material-institution",
   "metadata": {},
   "outputs": [],
   "source": [
    "# Making predictions\n",
    "def prediction(x_test,clf_object):\n",
    "    y_pred = clf_object.predict(x_test)\n",
    "    print(f\"Predicted values: {y_pred}\")\n",
    "    return y_pred"
   ]
  },
  {
   "cell_type": "code",
   "execution_count": 104,
   "id": "boolean-swedish",
   "metadata": {},
   "outputs": [],
   "source": [
    "# Calculating accuracy\n",
    "def cal_accuracy(y_test, y_pred):\n",
    "    print(accuracy_score(y_test, y_pred) * 100)\n",
    "    print(classification_report(y_test, y_pred))"
   ]
  },
  {
   "cell_type": "code",
   "execution_count": 79,
   "id": "false-aging",
   "metadata": {},
   "outputs": [
    {
     "name": "stdout",
     "output_type": "stream",
     "text": [
      "625\n",
      "(625, 5)\n",
      "   0  1  2  3  4\n",
      "0  B  1  1  1  1\n",
      "1  R  1  1  1  2\n",
      "2  R  1  1  1  3\n",
      "3  R  1  1  1  4\n",
      "4  R  1  1  1  5\n"
     ]
    }
   ],
   "source": [
    "data = importdata()"
   ]
  },
  {
   "cell_type": "code",
   "execution_count": 80,
   "id": "adaptive-medium",
   "metadata": {},
   "outputs": [
    {
     "name": "stdout",
     "output_type": "stream",
     "text": [
      "Predicted values: ['R' 'L' 'R' 'R' 'R' 'L' 'R' 'L' 'L' 'L' 'R' 'L' 'L' 'L' 'R' 'L' 'R' 'L'\n",
      " 'L' 'R' 'L' 'R' 'L' 'L' 'R' 'L' 'L' 'L' 'R' 'L' 'L' 'L' 'R' 'L' 'L' 'L'\n",
      " 'L' 'R' 'L' 'L' 'R' 'L' 'R' 'L' 'R' 'R' 'L' 'L' 'R' 'L' 'R' 'R' 'L' 'R'\n",
      " 'R' 'L' 'R' 'R' 'L' 'L' 'R' 'R' 'L' 'L' 'L' 'L' 'L' 'R' 'R' 'L' 'L' 'R'\n",
      " 'R' 'L' 'R' 'L' 'R' 'R' 'R' 'L' 'R' 'L' 'L' 'L' 'L' 'R' 'R' 'L' 'R' 'L'\n",
      " 'R' 'R' 'L' 'L' 'L' 'R' 'R' 'L' 'L' 'L' 'R' 'L' 'R' 'R' 'R' 'R' 'R' 'R'\n",
      " 'R' 'L' 'R' 'L' 'R' 'R' 'L' 'R' 'R' 'R' 'R' 'R' 'L' 'R' 'L' 'L' 'L' 'L'\n",
      " 'L' 'L' 'L' 'R' 'R' 'R' 'R' 'L' 'R' 'R' 'R' 'L' 'L' 'R' 'L' 'R' 'L' 'R'\n",
      " 'L' 'L' 'R' 'L' 'L' 'R' 'L' 'R' 'L' 'R' 'R' 'R' 'L' 'R' 'R' 'R' 'R' 'R'\n",
      " 'L' 'L' 'R' 'R' 'R' 'R' 'L' 'R' 'R' 'R' 'L' 'R' 'L' 'L' 'L' 'L' 'R' 'R'\n",
      " 'L' 'R' 'R' 'L' 'L' 'R' 'R' 'R']\n"
     ]
    }
   ],
   "source": [
    "x,y,x_train,x_test,y_train,y_test = splitdataset(data)\n",
    "clf_gini = train_using_gini(x_train, x_test, y_train)\n",
    "clf_entropy = train_using_entropy(x_train, x_test, y_train)\n",
    "y_pred_gini = prediction(x_test, clf_gini)"
   ]
  },
  {
   "cell_type": "code",
   "execution_count": 105,
   "id": "tight-berry",
   "metadata": {},
   "outputs": [
    {
     "name": "stdout",
     "output_type": "stream",
     "text": [
      "73.40425531914893\n",
      "              precision    recall  f1-score   support\n",
      "\n",
      "           B       0.00      0.00      0.00        13\n",
      "           L       0.73      0.79      0.76        85\n",
      "           R       0.74      0.79      0.76        90\n",
      "\n",
      "    accuracy                           0.73       188\n",
      "   macro avg       0.49      0.53      0.51       188\n",
      "weighted avg       0.68      0.73      0.71       188\n",
      "\n"
     ]
    },
    {
     "name": "stderr",
     "output_type": "stream",
     "text": [
      "D:\\Anaconda3\\envs\\ai\\lib\\site-packages\\sklearn\\metrics\\_classification.py:1221: UndefinedMetricWarning: Precision and F-score are ill-defined and being set to 0.0 in labels with no predicted samples. Use `zero_division` parameter to control this behavior.\n",
      "  _warn_prf(average, modifier, msg_start, len(result))\n"
     ]
    }
   ],
   "source": [
    "cal_accuracy(y_test, y_pred_gini)"
   ]
  },
  {
   "cell_type": "markdown",
   "id": "varying-crowd",
   "metadata": {},
   "source": [
    "### 4. Support Vector Machines\n",
    "One of the most ML algorithms for supervised classification. It plots lines to categorize the data and calculate the vector to optimize the line. It is to ensure that closest point in each group lies farthest from each other.\n",
    "\n",
    "#### Advantages:\n",
    "1. More effective with increase in dimensions of the data.\n",
    "2. Effective when there is clear margin of separation between classes.\n",
    "\n",
    "#### Disadvantages:\n",
    "1. Not suitable for large or overlapping datasets.\n",
    "2. Not suitable for dataset where no. of features is more than no. of samples.\n",
    "\n",
    "#### Use cases:\n",
    "1. Face Detection\n",
    "2. Hand-writing recognition\n",
    "3. Protein classification"
   ]
  },
  {
   "cell_type": "code",
   "execution_count": 95,
   "id": "perceived-symphony",
   "metadata": {},
   "outputs": [],
   "source": [
    "# Importing libraries\n",
    "from sklearn.datasets import make_blobs\n",
    "import matplotlib.pyplot as plt\n",
    "import numpy as np"
   ]
  },
  {
   "cell_type": "code",
   "execution_count": 96,
   "id": "tender-success",
   "metadata": {},
   "outputs": [
    {
     "data": {
      "image/png": "[encoded data removed]",
      "text/plain": [
       "<Figure size 432x288 with 1 Axes>"
      ]
     },
     "metadata": {
      "needs_background": "light"
     },
     "output_type": "display_data"
    }
   ],
   "source": [
    "# Loading dataset\n",
    "x, y = make_blobs(n_samples = 500,centers = 2,\n",
    "           random_state = 0,cluster_std = 0.40)\n",
    "\n",
    "plt.scatter(x[:,0], x[:,1], c = y, s = 50, cmap = 'plasma')\n",
    "plt.show()"
   ]
  },
  {
   "cell_type": "code",
   "execution_count": 101,
   "id": "stone-binding",
   "metadata": {},
   "outputs": [
    {
     "data": {
      "image/png": "[encoded data removed]",
      "text/plain": [
       "<Figure size 432x288 with 1 Axes>"
      ]
     },
     "metadata": {
      "needs_background": "light"
     },
     "output_type": "display_data"
    }
   ],
   "source": [
    "# Creating SVM model\n",
    "xfit = np.linspace(-1,3.5)\n",
    "plt.scatter(x[:, 0], x[:, 1], c = y, s = 50, cmap = 'plasma')\n",
    "for m, b, d in [(1, 0.65, 0.33), (0.5, 1.6, 0.55), (-0.2, 2.9, 0.2)]:\n",
    "    yfit = m * xfit + b\n",
    "    plt.plot(xfit, yfit, '-k')\n",
    "    plt.fill_between(xfit, yfit - d, yfit + d, edgecolor = 'none',\n",
    "    color = '#AFFEDC', alpha = 0.4)\n",
    "plt.xlim(-1, 3.5)\n",
    "plt.show()"
   ]
  },
  {
   "cell_type": "markdown",
   "id": "coral-phone",
   "metadata": {},
   "source": [
    "### 5. Naive Bayes\n",
    "Classification method based on Bayes' theorem. It assumes that a feature in a class is independent of other features, even if they are. Easy to build a Naive Bayesian model for a large dataset.\n",
    "\n",
    "#### Advantages:\n",
    "1. Easy to implement\n",
    "2. Require small train data to estimate test data\n",
    "\n",
    "#### Disadvantages:\n",
    "1. Assuming that features are independent is usually the case in real world.\n",
    "2. Any new feature in test data with be assigned 0 while making prediction. (Can be solved using Laplace estimation)\n",
    "\n",
    "#### Use cases:\n",
    "1. Spam filtering\n",
    "2. Sentiment prediction\n",
    "3. Document classification"
   ]
  },
  {
   "cell_type": "code",
   "execution_count": 110,
   "id": "heard-feedback",
   "metadata": {},
   "outputs": [],
   "source": [
    "# Importing libraries\n",
    "from sklearn.naive_bayes import GaussianNB\n",
    "from sklearn.naive_bayes import MultinomialNB\n",
    "from sklearn import datasets\n",
    "from sklearn.metrics import confusion_matrix\n",
    "from sklearn.model_selection import train_test_split\n",
    "import matplotlib.pyplot as plt"
   ]
  },
  {
   "cell_type": "code",
   "execution_count": 112,
   "id": "cloudy-flavor",
   "metadata": {},
   "outputs": [
    {
     "data": {
      "image/png": "[encoded data removed]",
      "text/plain": [
       "<Figure size 432x288 with 2 Axes>"
      ]
     },
     "metadata": {
      "needs_background": "light"
     },
     "output_type": "display_data"
    }
   ],
   "source": [
    "# Loading dataset\n",
    "iris = datasets.load_iris()\n",
    "x = iris.data\n",
    "y = iris.target\n",
    "x_train, x_test, y_train, y_test = train_test_split(x, y, test_size = 0.3, random_state = 0)\n",
    "\n",
    "# Creating Naive Bayes classifier objects\n",
    "gnb = GaussianNB()\n",
    "mnb = MultinomialNB()\n",
    "y_pred_gnb = gnb.fit(x_train, y_train).predict(x_test)\n",
    "cnf_matrix_gnb = confusion_matrix(y_test, y_pred_gnb)\n",
    "plt.imshow(cnf_matrix_gnb)\n",
    "plt.colorbar()\n",
    "plt.show()"
   ]
  },
  {
   "cell_type": "markdown",
   "id": "intellectual-poland",
   "metadata": {},
   "source": [
    "### 6. k-Nearest Neighbor\n",
    "Supervised ML algorithm used for classification and regression, but mostly for classification. It considers different centroids and usually uses Euclidian function to compare distance. Then it classifies each point to a group with k nearest points along with it.\n",
    "\n",
    "#### Advantages:\n",
    "1. Using Instance-based learning, it does not derive any discriminant function during training period. It stores training data and learns from it to make real-time prediction.\n",
    "2. New data can be added anytime without impacting the accuracy of the algorithm\n",
    "\n",
    "#### Disadvantages:\n",
    "1. Does not work well with large dataset or higher dimension dataset as both degrades the performance of the algorithm.\n",
    "2. Very sensitive to noisy data and outliers.\n",
    "\n",
    "#### Use cases:\n",
    "1. Recommendation system\n",
    "2. Pattern recognition"
   ]
  },
  {
   "cell_type": "code",
   "execution_count": 129,
   "id": "liable-financing",
   "metadata": {},
   "outputs": [],
   "source": [
    "# Importing libraries\n",
    "from sklearn.model_selection import train_test_split\n",
    "from sklearn.linear_model import LogisticRegression\n",
    "from sklearn.neighbors import KNeighborsClassifier\n",
    "from sklearn import metrics\n",
    "import matplotlib.pyplot as plt"
   ]
  },
  {
   "cell_type": "code",
   "execution_count": 121,
   "id": "limited-textbook",
   "metadata": {},
   "outputs": [
    {
     "name": "stdout",
     "output_type": "stream",
     "text": [
      "(90, 4)\n"
     ]
    }
   ],
   "source": [
    "# Splitting dataset\n",
    "x_train, x_test, y_train, y_test = train_test_split(x, y, test_size = 0.4, random_state = 4)\n",
    "print(x_train.shape)"
   ]
  },
  {
   "cell_type": "code",
   "execution_count": 124,
   "id": "historic-thickness",
   "metadata": {},
   "outputs": [
    {
     "data": {
      "text/plain": [
       "0.9666666666666667"
      ]
     },
     "execution_count": 124,
     "metadata": {},
     "output_type": "execute_result"
    }
   ],
   "source": [
    "# Using logistic regression\n",
    "logreg = LogisticRegression()\n",
    "logreg.fit(x_train, y_train)\n",
    "y_pred = knn.predict(x_test)\n",
    "metrics.accuracy_score(y_test, y_pred)"
   ]
  },
  {
   "cell_type": "code",
   "execution_count": 127,
   "id": "persistent-stone",
   "metadata": {},
   "outputs": [
    {
     "data": {
      "text/plain": [
       "0.9666666666666667"
      ]
     },
     "execution_count": 127,
     "metadata": {},
     "output_type": "execute_result"
    }
   ],
   "source": [
    "# Creating kNN classifier object\n",
    "knn = KNeighborsClassifier(n_neighbors = 5)\n",
    "knn.fit(x_train, y_train)\n",
    "y_pred = knn.predict(x_test)\n",
    "metrics.accuracy_score(y_test, y_pred)"
   ]
  },
  {
   "cell_type": "code",
   "execution_count": 128,
   "id": "legal-kernel",
   "metadata": {},
   "outputs": [
    {
     "name": "stdout",
     "output_type": "stream",
     "text": [
      "[0.95, 0.95, 0.9666666666666667, 0.9666666666666667, 0.9666666666666667, 0.9833333333333333, 0.9833333333333333, 0.9833333333333333, 0.9833333333333333, 0.9833333333333333, 0.9833333333333333, 0.9833333333333333, 0.9833333333333333, 0.9833333333333333, 0.9833333333333333, 0.9833333333333333, 0.9833333333333333, 0.9666666666666667, 0.9833333333333333, 0.9666666666666667, 0.9666666666666667, 0.9666666666666667, 0.9666666666666667, 0.95, 0.95]\n"
     ]
    }
   ],
   "source": [
    "# Training classifier for various values of k\n",
    "k_range = range(1, 26)\n",
    "scores = []\n",
    "for k in k_range:\n",
    "    knn = KNeighborsClassifier(n_neighbors=k)\n",
    "    knn.fit(x_train, y_train)\n",
    "    y_pred = knn.predict(x_test)\n",
    "    scores.append(metrics.accuracy_score(y_test, y_pred))\n",
    "print(scores)"
   ]
  },
  {
   "cell_type": "code",
   "execution_count": 130,
   "id": "suitable-composer",
   "metadata": {},
   "outputs": [
    {
     "data": {
      "image/png": "[encoded data removed]",
      "text/plain": [
       "<Figure size 432x288 with 1 Axes>"
      ]
     },
     "metadata": {
      "needs_background": "light"
     },
     "output_type": "display_data"
    }
   ],
   "source": [
    "plt.plot(k_range, scores)\n",
    "plt.xlabel('k for kNN')\n",
    "plt.ylabel('Testing Accuracy')\n",
    "plt.show()"
   ]
  },
  {
   "cell_type": "markdown",
   "id": "australian-chicago",
   "metadata": {},
   "source": [
    "### 7. Random Forest\n",
    "It is an ensembling of decision trees. Every new object is classified based on its attributes and each tree votes for the class. Classification with most votes win the forest.\n",
    "\n",
    "#### Advantages:\n",
    "1. Reduces overfitting in decision trees and improves accuracy.\n",
    "2. Using rule-based approach, data normalization is not required.\n",
    "\n",
    "#### Disadvantages:\n",
    "1. Requires lot of computational power as it builds multiple trees.\n",
    "2. Due to emsembling, it fails to determine significance of each feature.\n",
    "\n",
    "#### Use cases:\n",
    "1. Customer analysis\n",
    "2. Drug and disease analysis"
   ]
  },
  {
   "cell_type": "code",
   "execution_count": 144,
   "id": "fitting-compatibility",
   "metadata": {},
   "outputs": [],
   "source": [
    "# importing libraries\n",
    "import numpy as np\n",
    "import pylab as pl\n",
    "from sklearn.datasets import load_iris\n",
    "from sklearn.ensemble import RandomForestClassifier\n",
    "import pandas as pd\n",
    "import numpy as np"
   ]
  },
  {
   "cell_type": "code",
   "execution_count": 145,
   "id": "elegant-portugal",
   "metadata": {},
   "outputs": [
    {
     "data": {
      "text/plain": [
       "<matplotlib.collections.PathCollection at 0x1822b6f0d88>"
      ]
     },
     "execution_count": 145,
     "metadata": {},
     "output_type": "execute_result"
    },
    {
     "data": {
      "image/png": "[encoded data removed]",
      "text/plain": [
       "<Figure size 432x288 with 1 Axes>"
      ]
     },
     "metadata": {},
     "output_type": "display_data"
    }
   ],
   "source": [
    "# Creating dataset for visualization\n",
    "x = np.random.uniform(1,100,1000)\n",
    "y = np.log(x) + np.random.normal(0,.3,1000)\n",
    "pl.scatter(x, y, s = 1, label = 'log(x) with noise')"
   ]
  },
  {
   "cell_type": "code",
   "execution_count": 147,
   "id": "played-morgan",
   "metadata": {},
   "outputs": [
    {
     "data": {
      "image/png": "[encoded data removed]",
      "text/plain": [
       "<Figure size 432x288 with 1 Axes>"
      ]
     },
     "metadata": {},
     "output_type": "display_data"
    }
   ],
   "source": [
    "# Visualizing Random Forest\n",
    "pl.scatter(x, y, s = 1, label = 'log(x) with noise')\n",
    "pl.plot(np.arange(1,100), np.log(np.arange(1,100)), c = 'r', label = 'log(x) true function')\n",
    "pl.xlabel('x')\n",
    "pl.ylabel('f(x)=log(x)')\n",
    "pl.legend(loc = 'best')\n",
    "pl.title('A basic log function') \n",
    "pl.show()"
   ]
  },
  {
   "cell_type": "code",
   "execution_count": 140,
   "id": "illegal-child",
   "metadata": {},
   "outputs": [
    {
     "data": {
      "text/html": [
       "<div>\n",
       "<style scoped>\n",
       "    .dataframe tbody tr th:only-of-type {\n",
       "        vertical-align: middle;\n",
       "    }\n",
       "\n",
       "    .dataframe tbody tr th {\n",
       "        vertical-align: top;\n",
       "    }\n",
       "\n",
       "    .dataframe thead th {\n",
       "        text-align: right;\n",
       "    }\n",
       "</style>\n",
       "<table border=\"1\" class=\"dataframe\">\n",
       "  <thead>\n",
       "    <tr style=\"text-align: right;\">\n",
       "      <th></th>\n",
       "      <th>sepal length (cm)</th>\n",
       "      <th>sepal width (cm)</th>\n",
       "      <th>petal length (cm)</th>\n",
       "      <th>petal width (cm)</th>\n",
       "      <th>is_train</th>\n",
       "      <th>species</th>\n",
       "    </tr>\n",
       "  </thead>\n",
       "  <tbody>\n",
       "    <tr>\n",
       "      <th>0</th>\n",
       "      <td>5.1</td>\n",
       "      <td>3.5</td>\n",
       "      <td>1.4</td>\n",
       "      <td>0.2</td>\n",
       "      <td>False</td>\n",
       "      <td>setosa</td>\n",
       "    </tr>\n",
       "    <tr>\n",
       "      <th>1</th>\n",
       "      <td>4.9</td>\n",
       "      <td>3.0</td>\n",
       "      <td>1.4</td>\n",
       "      <td>0.2</td>\n",
       "      <td>True</td>\n",
       "      <td>setosa</td>\n",
       "    </tr>\n",
       "    <tr>\n",
       "      <th>2</th>\n",
       "      <td>4.7</td>\n",
       "      <td>3.2</td>\n",
       "      <td>1.3</td>\n",
       "      <td>0.2</td>\n",
       "      <td>True</td>\n",
       "      <td>setosa</td>\n",
       "    </tr>\n",
       "    <tr>\n",
       "      <th>3</th>\n",
       "      <td>4.6</td>\n",
       "      <td>3.1</td>\n",
       "      <td>1.5</td>\n",
       "      <td>0.2</td>\n",
       "      <td>True</td>\n",
       "      <td>setosa</td>\n",
       "    </tr>\n",
       "    <tr>\n",
       "      <th>4</th>\n",
       "      <td>5.0</td>\n",
       "      <td>3.6</td>\n",
       "      <td>1.4</td>\n",
       "      <td>0.2</td>\n",
       "      <td>True</td>\n",
       "      <td>setosa</td>\n",
       "    </tr>\n",
       "  </tbody>\n",
       "</table>\n",
       "</div>"
      ],
      "text/plain": [
       "   sepal length (cm)  sepal width (cm)  petal length (cm)  petal width (cm)  \\\n",
       "0                5.1               3.5                1.4               0.2   \n",
       "1                4.9               3.0                1.4               0.2   \n",
       "2                4.7               3.2                1.3               0.2   \n",
       "3                4.6               3.1                1.5               0.2   \n",
       "4                5.0               3.6                1.4               0.2   \n",
       "\n",
       "   is_train species  \n",
       "0     False  setosa  \n",
       "1      True  setosa  \n",
       "2      True  setosa  \n",
       "3      True  setosa  \n",
       "4      True  setosa  "
      ]
     },
     "execution_count": 140,
     "metadata": {},
     "output_type": "execute_result"
    }
   ],
   "source": [
    "# Loading dataset\n",
    "iris = load_iris()\n",
    "df = pd.DataFrame(iris.data, columns = iris.feature_names)\n",
    "df['is_train'] = np.random.uniform(0, 1, len(df)) <= .75\n",
    "df['species'] = pd.Categorical.from_codes(iris.target, iris.target_names)\n",
    "df.head()"
   ]
  },
  {
   "cell_type": "code",
   "execution_count": 141,
   "id": "embedded-legislature",
   "metadata": {},
   "outputs": [
    {
     "data": {
      "text/plain": [
       "RandomForestClassifier(n_jobs=2)"
      ]
     },
     "execution_count": 141,
     "metadata": {},
     "output_type": "execute_result"
    }
   ],
   "source": [
    "# Creating classifier object\n",
    "train,test = df[df['is_train'] == True], df[df['is_train'] == False]\n",
    "features = df.columns[:4]\n",
    "clf = RandomForestClassifier(n_jobs = 2)\n",
    "y, _ = pd.factorize(train['species'])\n",
    "clf.fit(train[features], y)"
   ]
  },
  {
   "cell_type": "code",
   "execution_count": 142,
   "id": "similar-dance",
   "metadata": {},
   "outputs": [
    {
     "data": {
      "text/html": [
       "<div>\n",
       "<style scoped>\n",
       "    .dataframe tbody tr th:only-of-type {\n",
       "        vertical-align: middle;\n",
       "    }\n",
       "\n",
       "    .dataframe tbody tr th {\n",
       "        vertical-align: top;\n",
       "    }\n",
       "\n",
       "    .dataframe thead th {\n",
       "        text-align: right;\n",
       "    }\n",
       "</style>\n",
       "<table border=\"1\" class=\"dataframe\">\n",
       "  <thead>\n",
       "    <tr style=\"text-align: right;\">\n",
       "      <th>preds</th>\n",
       "      <th>setosa</th>\n",
       "      <th>versicolor</th>\n",
       "      <th>virginica</th>\n",
       "    </tr>\n",
       "    <tr>\n",
       "      <th>actual</th>\n",
       "      <th></th>\n",
       "      <th></th>\n",
       "      <th></th>\n",
       "    </tr>\n",
       "  </thead>\n",
       "  <tbody>\n",
       "    <tr>\n",
       "      <th>setosa</th>\n",
       "      <td>14</td>\n",
       "      <td>0</td>\n",
       "      <td>0</td>\n",
       "    </tr>\n",
       "    <tr>\n",
       "      <th>versicolor</th>\n",
       "      <td>0</td>\n",
       "      <td>16</td>\n",
       "      <td>0</td>\n",
       "    </tr>\n",
       "    <tr>\n",
       "      <th>virginica</th>\n",
       "      <td>0</td>\n",
       "      <td>1</td>\n",
       "      <td>15</td>\n",
       "    </tr>\n",
       "  </tbody>\n",
       "</table>\n",
       "</div>"
      ],
      "text/plain": [
       "preds       setosa  versicolor  virginica\n",
       "actual                                   \n",
       "setosa          14           0          0\n",
       "versicolor       0          16          0\n",
       "virginica        0           1         15"
      ]
     },
     "execution_count": 142,
     "metadata": {},
     "output_type": "execute_result"
    }
   ],
   "source": [
    "# Getting predictions\n",
    "preds = iris.target_names[clf.predict(test[features])]\n",
    "pd.crosstab(test['species'], preds, rownames = ['actual'], colnames = ['preds'])"
   ]
  },
  {
   "cell_type": "markdown",
   "id": "precious-yesterday",
   "metadata": {},
   "source": [
    "## Unsupervised Learning"
   ]
  },
  {
   "cell_type": "markdown",
   "id": "commercial-snapshot",
   "metadata": {},
   "source": [
    "### 1. k-Means Clustering\n",
    "One of the unsupervised ML algorithm that helps in clustering. It classifies data using number of cluster which can be determined using Elbow or Purpose method. Data points inside a class are homogeneous based on the selected feature.\n",
    "\n",
    "#### Advantages:\n",
    "1. It is easy to implement and fast with better computaional cost.\n",
    "2. It gives the best results if data points are distinct. Even better with spherical clusters.\n",
    "\n",
    "#### Disadvantages:\n",
    "1. Cannot work with overlapping data points.\n",
    "2. Cannot work with noisy data and outliers.\n",
    "\n",
    "#### Use cases:\n",
    "1. Document clustering\n",
    "2. Search engine optimization\n",
    "3. Feature learning"
   ]
  },
  {
   "cell_type": "code",
   "execution_count": 131,
   "id": "raised-router",
   "metadata": {},
   "outputs": [],
   "source": [
    "# Importing libraries\n",
    "import numpy as np\n",
    "import matplotlib.pyplot as plt\n",
    "from matplotlib import style\n",
    "from sklearn.cluster import KMeans"
   ]
  },
  {
   "cell_type": "code",
   "execution_count": 132,
   "id": "vital-glass",
   "metadata": {},
   "outputs": [
    {
     "data": {
      "text/plain": [
       "<matplotlib.collections.PathCollection at 0x1822dc6e088>"
      ]
     },
     "execution_count": 132,
     "metadata": {},
     "output_type": "execute_result"
    },
    {
     "data": {
      "image/png": "[encoded data removed]",
      "text/plain": [
       "<Figure size 432x288 with 1 Axes>"
      ]
     },
     "metadata": {},
     "output_type": "display_data"
    }
   ],
   "source": [
    "# Creating dataset visualization\n",
    "style.use('ggplot')\n",
    "x = [1,5,1.5,8,1,9]\n",
    "y = [2,8,1.7,6,0.2,12]\n",
    "plt.scatter(x, y)"
   ]
  },
  {
   "cell_type": "code",
   "execution_count": 133,
   "id": "personal-liver",
   "metadata": {},
   "outputs": [
    {
     "data": {
      "text/plain": [
       "KMeans(n_clusters=2)"
      ]
     },
     "execution_count": 133,
     "metadata": {},
     "output_type": "execute_result"
    }
   ],
   "source": [
    "# Creating dataset\n",
    "x = np.array([[1,2],[5,8],[1.5,1.8],[8,8],[1,0.6],[9,11]])\n",
    "\n",
    "# Creating classifier object\n",
    "kmeans = KMeans(n_clusters = 2)\n",
    "kmeans.fit(x)"
   ]
  },
  {
   "cell_type": "code",
   "execution_count": 134,
   "id": "operational-estate",
   "metadata": {},
   "outputs": [
    {
     "name": "stdout",
     "output_type": "stream",
     "text": [
      "[[1.16666667 1.46666667]\n",
      " [7.33333333 9.        ]]\n",
      "[0 1 0 1 0 1]\n"
     ]
    }
   ],
   "source": [
    "# Fetching centroids for k-means\n",
    "centroids = kmeans.cluster_centers_\n",
    "labels = kmeans.labels_\n",
    "print(centroids)\n",
    "print(labels)"
   ]
  },
  {
   "cell_type": "code",
   "execution_count": 135,
   "id": "exposed-theater",
   "metadata": {},
   "outputs": [
    {
     "name": "stdout",
     "output_type": "stream",
     "text": [
      "[1. 2.] 0\n",
      "[5. 8.] 1\n",
      "[1.5 1.8] 0\n",
      "[8. 8.] 1\n",
      "[1.  0.6] 0\n",
      "[ 9. 11.] 1\n"
     ]
    },
    {
     "data": {
      "image/png": "[encoded data removed]",
      "text/plain": [
       "<Figure size 432x288 with 1 Axes>"
      ]
     },
     "metadata": {},
     "output_type": "display_data"
    }
   ],
   "source": [
    "# Plotting output\n",
    "colors = ['g.','r.','c.','y.']\n",
    "for i in range(len(x)):\n",
    "    print(x[i], labels[i])\n",
    "    plt.plot(x[i][0], x[i][1], colors[labels[i]], markersize = 10)\n",
    "plt.scatter(centroids[:,0], centroids[:,1], marker = 'x', s = 150, linewidths = 5, zorder = 10)\n",
    "plt.show()"
   ]
  },
  {
   "cell_type": "markdown",
   "id": "stone-landing",
   "metadata": {},
   "source": [
    "### 2. Apriori Algorithm\n",
    "A bottom-up approach of Association Rule Mining algorithm to find underlying relations between different items. It uses concept of 'Support' and 'Confidence' to find association between the items.\n",
    "\n",
    "#### Advantages:\n",
    "1. Easy to understand and implement\n",
    "2. Has many derivatives that improve prediction\n",
    "\n",
    "#### Disadvantages:\n",
    "1. Size of itemset can become extremely large\n",
    "2. Reiterating itemset database can lead to waste of time.\n",
    "\n",
    "#### Use cases:\n",
    "1. Market basket analysis\n",
    "2. Recommendation System\n",
    "3. Browsing analysis"
   ]
  },
  {
   "cell_type": "code",
   "execution_count": 161,
   "id": "younger-circle",
   "metadata": {},
   "outputs": [],
   "source": [
    "# Importing libraries\n",
    "import numpy as np\n",
    "import matplotlib.pyplot as plt\n",
    "import pandas as pd\n",
    "from apyori import apriori"
   ]
  },
  {
   "cell_type": "code",
   "execution_count": 162,
   "id": "civic-attack",
   "metadata": {},
   "outputs": [
    {
     "data": {
      "text/html": [
       "<div>\n",
       "<style scoped>\n",
       "    .dataframe tbody tr th:only-of-type {\n",
       "        vertical-align: middle;\n",
       "    }\n",
       "\n",
       "    .dataframe tbody tr th {\n",
       "        vertical-align: top;\n",
       "    }\n",
       "\n",
       "    .dataframe thead th {\n",
       "        text-align: right;\n",
       "    }\n",
       "</style>\n",
       "<table border=\"1\" class=\"dataframe\">\n",
       "  <thead>\n",
       "    <tr style=\"text-align: right;\">\n",
       "      <th></th>\n",
       "      <th>0</th>\n",
       "      <th>1</th>\n",
       "      <th>2</th>\n",
       "      <th>3</th>\n",
       "      <th>4</th>\n",
       "      <th>5</th>\n",
       "      <th>6</th>\n",
       "      <th>7</th>\n",
       "      <th>8</th>\n",
       "      <th>9</th>\n",
       "      <th>10</th>\n",
       "      <th>11</th>\n",
       "      <th>12</th>\n",
       "      <th>13</th>\n",
       "      <th>14</th>\n",
       "      <th>15</th>\n",
       "      <th>16</th>\n",
       "      <th>17</th>\n",
       "      <th>18</th>\n",
       "      <th>19</th>\n",
       "    </tr>\n",
       "  </thead>\n",
       "  <tbody>\n",
       "    <tr>\n",
       "      <th>0</th>\n",
       "      <td>shrimp</td>\n",
       "      <td>almonds</td>\n",
       "      <td>avocado</td>\n",
       "      <td>vegetables mix</td>\n",
       "      <td>green grapes</td>\n",
       "      <td>whole weat flour</td>\n",
       "      <td>yams</td>\n",
       "      <td>cottage cheese</td>\n",
       "      <td>energy drink</td>\n",
       "      <td>tomato juice</td>\n",
       "      <td>low fat yogurt</td>\n",
       "      <td>green tea</td>\n",
       "      <td>honey</td>\n",
       "      <td>salad</td>\n",
       "      <td>mineral water</td>\n",
       "      <td>salmon</td>\n",
       "      <td>antioxydant juice</td>\n",
       "      <td>frozen smoothie</td>\n",
       "      <td>spinach</td>\n",
       "      <td>olive oil</td>\n",
       "    </tr>\n",
       "    <tr>\n",
       "      <th>1</th>\n",
       "      <td>burgers</td>\n",
       "      <td>meatballs</td>\n",
       "      <td>eggs</td>\n",
       "      <td>NaN</td>\n",
       "      <td>NaN</td>\n",
       "      <td>NaN</td>\n",
       "      <td>NaN</td>\n",
       "      <td>NaN</td>\n",
       "      <td>NaN</td>\n",
       "      <td>NaN</td>\n",
       "      <td>NaN</td>\n",
       "      <td>NaN</td>\n",
       "      <td>NaN</td>\n",
       "      <td>NaN</td>\n",
       "      <td>NaN</td>\n",
       "      <td>NaN</td>\n",
       "      <td>NaN</td>\n",
       "      <td>NaN</td>\n",
       "      <td>NaN</td>\n",
       "      <td>NaN</td>\n",
       "    </tr>\n",
       "    <tr>\n",
       "      <th>2</th>\n",
       "      <td>chutney</td>\n",
       "      <td>NaN</td>\n",
       "      <td>NaN</td>\n",
       "      <td>NaN</td>\n",
       "      <td>NaN</td>\n",
       "      <td>NaN</td>\n",
       "      <td>NaN</td>\n",
       "      <td>NaN</td>\n",
       "      <td>NaN</td>\n",
       "      <td>NaN</td>\n",
       "      <td>NaN</td>\n",
       "      <td>NaN</td>\n",
       "      <td>NaN</td>\n",
       "      <td>NaN</td>\n",
       "      <td>NaN</td>\n",
       "      <td>NaN</td>\n",
       "      <td>NaN</td>\n",
       "      <td>NaN</td>\n",
       "      <td>NaN</td>\n",
       "      <td>NaN</td>\n",
       "    </tr>\n",
       "    <tr>\n",
       "      <th>3</th>\n",
       "      <td>turkey</td>\n",
       "      <td>avocado</td>\n",
       "      <td>NaN</td>\n",
       "      <td>NaN</td>\n",
       "      <td>NaN</td>\n",
       "      <td>NaN</td>\n",
       "      <td>NaN</td>\n",
       "      <td>NaN</td>\n",
       "      <td>NaN</td>\n",
       "      <td>NaN</td>\n",
       "      <td>NaN</td>\n",
       "      <td>NaN</td>\n",
       "      <td>NaN</td>\n",
       "      <td>NaN</td>\n",
       "      <td>NaN</td>\n",
       "      <td>NaN</td>\n",
       "      <td>NaN</td>\n",
       "      <td>NaN</td>\n",
       "      <td>NaN</td>\n",
       "      <td>NaN</td>\n",
       "    </tr>\n",
       "    <tr>\n",
       "      <th>4</th>\n",
       "      <td>mineral water</td>\n",
       "      <td>milk</td>\n",
       "      <td>energy bar</td>\n",
       "      <td>whole wheat rice</td>\n",
       "      <td>green tea</td>\n",
       "      <td>NaN</td>\n",
       "      <td>NaN</td>\n",
       "      <td>NaN</td>\n",
       "      <td>NaN</td>\n",
       "      <td>NaN</td>\n",
       "      <td>NaN</td>\n",
       "      <td>NaN</td>\n",
       "      <td>NaN</td>\n",
       "      <td>NaN</td>\n",
       "      <td>NaN</td>\n",
       "      <td>NaN</td>\n",
       "      <td>NaN</td>\n",
       "      <td>NaN</td>\n",
       "      <td>NaN</td>\n",
       "      <td>NaN</td>\n",
       "    </tr>\n",
       "  </tbody>\n",
       "</table>\n",
       "</div>"
      ],
      "text/plain": [
       "              0          1           2                 3             4   \\\n",
       "0         shrimp    almonds     avocado    vegetables mix  green grapes   \n",
       "1        burgers  meatballs        eggs               NaN           NaN   \n",
       "2        chutney        NaN         NaN               NaN           NaN   \n",
       "3         turkey    avocado         NaN               NaN           NaN   \n",
       "4  mineral water       milk  energy bar  whole wheat rice     green tea   \n",
       "\n",
       "                 5     6               7             8             9   \\\n",
       "0  whole weat flour  yams  cottage cheese  energy drink  tomato juice   \n",
       "1               NaN   NaN             NaN           NaN           NaN   \n",
       "2               NaN   NaN             NaN           NaN           NaN   \n",
       "3               NaN   NaN             NaN           NaN           NaN   \n",
       "4               NaN   NaN             NaN           NaN           NaN   \n",
       "\n",
       "               10         11     12     13             14      15  \\\n",
       "0  low fat yogurt  green tea  honey  salad  mineral water  salmon   \n",
       "1             NaN        NaN    NaN    NaN            NaN     NaN   \n",
       "2             NaN        NaN    NaN    NaN            NaN     NaN   \n",
       "3             NaN        NaN    NaN    NaN            NaN     NaN   \n",
       "4             NaN        NaN    NaN    NaN            NaN     NaN   \n",
       "\n",
       "                  16               17       18         19  \n",
       "0  antioxydant juice  frozen smoothie  spinach  olive oil  \n",
       "1                NaN              NaN      NaN        NaN  \n",
       "2                NaN              NaN      NaN        NaN  \n",
       "3                NaN              NaN      NaN        NaN  \n",
       "4                NaN              NaN      NaN        NaN  "
      ]
     },
     "execution_count": 162,
     "metadata": {},
     "output_type": "execute_result"
    }
   ],
   "source": [
    "# Loading dataset\n",
    "store_data = pd.read_csv('store_data.csv', header = None)\n",
    "store_data.head()"
   ]
  },
  {
   "cell_type": "code",
   "execution_count": 163,
   "id": "defensive-silence",
   "metadata": {},
   "outputs": [],
   "source": [
    "records = []\n",
    "for i in range(0, 7501):\n",
    "    records.append([str(store_data.values[i,j]) for j in range(0, 20)])"
   ]
  },
  {
   "cell_type": "code",
   "execution_count": 165,
   "id": "elect-bonus",
   "metadata": {},
   "outputs": [
    {
     "name": "stdout",
     "output_type": "stream",
     "text": [
      "RelationRecord(items=frozenset({'chicken', 'light cream'}), support=0.004532728969470737, ordered_statistics=[OrderedStatistic(items_base=frozenset({'light cream'}), items_add=frozenset({'chicken'}), confidence=0.29059829059829057, lift=4.84395061728395)])\n"
     ]
    }
   ],
   "source": [
    "# Creating apriori object\n",
    "association_rules = apriori(records, min_support = 0.0045,\n",
    "                            min_confidence = 0.2, min_lift = 3, min_length = 2)\n",
    "association_results = list(association_rules)\n",
    "print(association_results[0])"
   ]
  },
  {
   "cell_type": "code",
   "execution_count": 167,
   "id": "disturbed-equation",
   "metadata": {},
   "outputs": [
    {
     "name": "stdout",
     "output_type": "stream",
     "text": [
      "Rule: chicken -> light cream\n",
      "Support: 0.004532728969470737\n",
      "Confidence: 0.29059829059829057\n",
      "Lift: 4.84395061728395\n",
      "=====================================\n",
      "Rule: mushroom cream sauce -> escalope\n",
      "Support: 0.005732568990801226\n",
      "Confidence: 0.3006993006993007\n",
      "Lift: 3.790832696715049\n",
      "=====================================\n",
      "Rule: pasta -> escalope\n",
      "Support: 0.005865884548726837\n",
      "Confidence: 0.3728813559322034\n",
      "Lift: 4.700811850163794\n",
      "=====================================\n",
      "Rule: herb & pepper -> ground beef\n",
      "Support: 0.015997866951073192\n",
      "Confidence: 0.3234501347708895\n",
      "Lift: 3.2919938411349285\n",
      "=====================================\n",
      "Rule: tomato sauce -> ground beef\n",
      "Support: 0.005332622317024397\n",
      "Confidence: 0.3773584905660377\n",
      "Lift: 3.840659481324083\n",
      "=====================================\n",
      "Rule: whole wheat pasta -> olive oil\n",
      "Support: 0.007998933475536596\n",
      "Confidence: 0.2714932126696833\n",
      "Lift: 4.122410097642296\n",
      "=====================================\n",
      "Rule: shrimp -> pasta\n",
      "Support: 0.005065991201173177\n",
      "Confidence: 0.3220338983050847\n",
      "Lift: 4.506672147735896\n",
      "=====================================\n",
      "Rule: chicken -> light cream\n",
      "Support: 0.004532728969470737\n",
      "Confidence: 0.29059829059829057\n",
      "Lift: 4.84395061728395\n",
      "=====================================\n",
      "Rule: chocolate -> shrimp\n",
      "Support: 0.005332622317024397\n",
      "Confidence: 0.23255813953488375\n",
      "Lift: 3.2545123221103784\n",
      "=====================================\n",
      "Rule: cooking oil -> spaghetti\n",
      "Support: 0.004799360085321957\n",
      "Confidence: 0.5714285714285714\n",
      "Lift: 3.2819951870487856\n",
      "=====================================\n",
      "Rule: mushroom cream sauce -> nan\n",
      "Support: 0.005732568990801226\n",
      "Confidence: 0.3006993006993007\n",
      "Lift: 3.790832696715049\n",
      "=====================================\n",
      "Rule: pasta -> nan\n",
      "Support: 0.005865884548726837\n",
      "Confidence: 0.3728813559322034\n",
      "Lift: 4.700811850163794\n",
      "=====================================\n",
      "Rule: frozen vegetables -> spaghetti\n",
      "Support: 0.008665511265164644\n",
      "Confidence: 0.31100478468899523\n",
      "Lift: 3.165328208890303\n",
      "=====================================\n",
      "Rule: frozen vegetables -> olive oil\n",
      "Support: 0.004799360085321957\n",
      "Confidence: 0.20338983050847456\n",
      "Lift: 3.088314005352364\n",
      "=====================================\n",
      "Rule: shrimp -> frozen vegetables\n",
      "Support: 0.007199040127982935\n",
      "Confidence: 0.30508474576271183\n",
      "Lift: 3.200616332819722\n",
      "=====================================\n",
      "Rule: frozen vegetables -> spaghetti\n",
      "Support: 0.005732568990801226\n",
      "Confidence: 0.20574162679425836\n",
      "Lift: 3.1240241752707125\n",
      "=====================================\n",
      "Rule: shrimp -> frozen vegetables\n",
      "Support: 0.005999200106652446\n",
      "Confidence: 0.21531100478468898\n",
      "Lift: 3.0131489680782684\n",
      "=====================================\n",
      "Rule: tomatoes -> frozen vegetables\n",
      "Support: 0.006665777896280496\n",
      "Confidence: 0.23923444976076558\n",
      "Lift: 3.4980460188216425\n",
      "=====================================\n",
      "Rule: spaghetti -> grated cheese\n",
      "Support: 0.005332622317024397\n",
      "Confidence: 0.3225806451612903\n",
      "Lift: 3.283144395325426\n",
      "=====================================\n",
      "Rule: herb & pepper -> mineral water\n",
      "Support: 0.006665777896280496\n",
      "Confidence: 0.39062500000000006\n",
      "Lift: 3.975682666214383\n",
      "=====================================\n",
      "Rule: herb & pepper -> nan\n",
      "Support: 0.015997866951073192\n",
      "Confidence: 0.3234501347708895\n",
      "Lift: 3.2919938411349285\n",
      "=====================================\n",
      "Rule: herb & pepper -> spaghetti\n",
      "Support: 0.006399146780429276\n",
      "Confidence: 0.3934426229508197\n",
      "Lift: 4.004359721511667\n",
      "=====================================\n",
      "Rule: milk -> olive oil\n",
      "Support: 0.004932675643247567\n",
      "Confidence: 0.22424242424242427\n",
      "Lift: 3.40494417862839\n",
      "=====================================\n",
      "Rule: tomato sauce -> nan\n",
      "Support: 0.005332622317024397\n",
      "Confidence: 0.3773584905660377\n",
      "Lift: 3.840659481324083\n",
      "=====================================\n",
      "Rule: shrimp -> spaghetti\n",
      "Support: 0.005999200106652446\n",
      "Confidence: 0.5232558139534884\n",
      "Lift: 3.005315360233627\n",
      "=====================================\n",
      "Rule: spaghetti -> olive oil\n",
      "Support: 0.007199040127982935\n",
      "Confidence: 0.20300751879699247\n",
      "Lift: 3.0825089038385434\n",
      "=====================================\n",
      "Rule: mineral water -> soup\n",
      "Support: 0.005199306759098787\n",
      "Confidence: 0.22543352601156072\n",
      "Lift: 3.4230301186492245\n",
      "=====================================\n",
      "Rule: whole wheat pasta -> nan\n",
      "Support: 0.007998933475536596\n",
      "Confidence: 0.2714932126696833\n",
      "Lift: 4.13077198425009\n",
      "=====================================\n",
      "Rule: shrimp -> pasta\n",
      "Support: 0.005065991201173177\n",
      "Confidence: 0.3220338983050847\n",
      "Lift: 4.515095833993347\n",
      "=====================================\n",
      "Rule: pancakes -> spaghetti\n",
      "Support: 0.005065991201173177\n",
      "Confidence: 0.20105820105820105\n",
      "Lift: 3.0529100529100526\n",
      "=====================================\n",
      "Rule: chocolate -> shrimp\n",
      "Support: 0.005332622317024397\n",
      "Confidence: 0.23255813953488375\n",
      "Lift: 3.260595522712454\n",
      "=====================================\n",
      "Rule: cooking oil -> nan\n",
      "Support: 0.004799360085321957\n",
      "Confidence: 0.5714285714285714\n",
      "Lift: 3.2819951870487856\n",
      "=====================================\n",
      "Rule: frozen vegetables -> nan\n",
      "Support: 0.008665511265164644\n",
      "Confidence: 0.31100478468899523\n",
      "Lift: 3.165328208890303\n",
      "=====================================\n",
      "Rule: frozen vegetables -> mineral water\n",
      "Support: 0.004532728969470737\n",
      "Confidence: 0.28813559322033894\n",
      "Lift: 3.0228043143297376\n",
      "=====================================\n",
      "Rule: frozen vegetables -> nan\n",
      "Support: 0.004799360085321957\n",
      "Confidence: 0.20338983050847456\n",
      "Lift: 3.094578333963626\n",
      "=====================================\n",
      "Rule: shrimp -> frozen vegetables\n",
      "Support: 0.007199040127982935\n",
      "Confidence: 0.30508474576271183\n",
      "Lift: 3.200616332819722\n",
      "=====================================\n",
      "Rule: frozen vegetables -> nan\n",
      "Support: 0.005732568990801226\n",
      "Confidence: 0.20574162679425836\n",
      "Lift: 3.1303609383037156\n",
      "=====================================\n",
      "Rule: shrimp -> frozen vegetables\n",
      "Support: 0.005999200106652446\n",
      "Confidence: 0.21531100478468898\n",
      "Lift: 3.0187810222242093\n",
      "=====================================\n",
      "Rule: tomatoes -> frozen vegetables\n",
      "Support: 0.006665777896280496\n",
      "Confidence: 0.23923444976076558\n",
      "Lift: 3.4980460188216425\n",
      "=====================================\n",
      "Rule: spaghetti -> nan\n",
      "Support: 0.005332622317024397\n",
      "Confidence: 0.3225806451612903\n",
      "Lift: 3.283144395325426\n",
      "=====================================\n",
      "Rule: herb & pepper -> nan\n",
      "Support: 0.006665777896280496\n",
      "Confidence: 0.39062500000000006\n",
      "Lift: 3.975682666214383\n",
      "=====================================\n",
      "Rule: herb & pepper -> nan\n",
      "Support: 0.006399146780429276\n",
      "Confidence: 0.3934426229508197\n",
      "Lift: 4.004359721511667\n",
      "=====================================\n",
      "Rule: milk -> nan\n",
      "Support: 0.004932675643247567\n",
      "Confidence: 0.22424242424242427\n",
      "Lift: 3.4118507591124225\n",
      "=====================================\n",
      "Rule: shrimp -> nan\n",
      "Support: 0.005999200106652446\n",
      "Confidence: 0.5232558139534884\n",
      "Lift: 3.005315360233627\n",
      "=====================================\n",
      "Rule: spaghetti -> nan\n",
      "Support: 0.007199040127982935\n",
      "Confidence: 0.20300751879699247\n",
      "Lift: 3.088761457396025\n",
      "=====================================\n",
      "Rule: nan -> mineral water\n",
      "Support: 0.005199306759098787\n",
      "Confidence: 0.22543352601156072\n",
      "Lift: 3.429973384609973\n",
      "=====================================\n",
      "Rule: pancakes -> nan\n",
      "Support: 0.005065991201173177\n",
      "Confidence: 0.20105820105820105\n",
      "Lift: 3.0591025682303568\n",
      "=====================================\n",
      "Rule: frozen vegetables -> mineral water\n",
      "Support: 0.004532728969470737\n",
      "Confidence: 0.28813559322033894\n",
      "Lift: 3.0228043143297376\n",
      "=====================================\n"
     ]
    }
   ],
   "source": [
    "# Printing association rules\n",
    "for item in association_results:\n",
    "\n",
    "    # first index of the inner list\n",
    "    # Contains base item and add item\n",
    "    pair = item[0] \n",
    "    items = [x for x in pair]\n",
    "    print(\"Rule: \" + items[0] + \" -> \" + items[1])\n",
    "\n",
    "    #second index of the inner list\n",
    "    print(\"Support: \" + str(item[1]))\n",
    "\n",
    "    #third index of the list located at 0th\n",
    "    #of the third index of the inner list\n",
    "\n",
    "    print(\"Confidence: \" + str(item[2][0][2]))\n",
    "    print(\"Lift: \" + str(item[2][0][3]))\n",
    "    print(\"=====================================\")"
   ]
  },
  {
   "cell_type": "markdown",
   "id": "described-system",
   "metadata": {},
   "source": [
    "### Principal Component Analysis\n",
    "A statistical techniques used to reduce the dimensionality of the data (reduce the number of features in the dataset) by selecting the most important features that capture maximum information about the dataset.\n",
    "\n",
    "#### Advantages:\n",
    "1. Reducing overfitting of the model\n",
    "2. Removes correlational features which lead to improvement in accuracy.\n",
    "\n",
    "#### Disadvantages:\n",
    "1. Data standardisation is required before applying PCA.\n",
    "2. Some of the information is lost if principal components is not selected carefully.\n",
    "\n",
    "### Uses:\n",
    "1. Feature extraction\n",
    "2. Feature elimination"
   ]
  },
  {
   "cell_type": "code",
   "execution_count": 151,
   "id": "destroyed-moore",
   "metadata": {},
   "outputs": [],
   "source": [
    "# Importing libraries\n",
    "from sklearn.datasets import fetch_openml\n",
    "from sklearn.model_selection import train_test_split\n",
    "from sklearn.preprocessing import StandardScaler\n",
    "from sklearn.linear_model import LogisticRegression"
   ]
  },
  {
   "cell_type": "code",
   "execution_count": 149,
   "id": "correct-sample",
   "metadata": {},
   "outputs": [],
   "source": [
    "# Loading dataset\n",
    "mnist = fetch_openml('mnist_784')"
   ]
  },
  {
   "cell_type": "code",
   "execution_count": 153,
   "id": "supreme-haven",
   "metadata": {},
   "outputs": [],
   "source": [
    "# Splitting dataset\n",
    "train_img, test_img, train_lbl, test_lbl = train_test_split(\n",
    "                        mnist.data, mnist.target, test_size=0.2, random_state=0)"
   ]
  },
  {
   "cell_type": "code",
   "execution_count": 155,
   "id": "primary-lobby",
   "metadata": {},
   "outputs": [],
   "source": [
    "# Fit on training set only.\n",
    "scaler = StandardScaler()\n",
    "scaler.fit(train_img)\n",
    "\n",
    "# Apply transform to both the training set and the test set.\n",
    "train_img = scaler.transform(train_img)\n",
    "test_img = scaler.transform(test_img)"
   ]
  },
  {
   "cell_type": "code",
   "execution_count": 156,
   "id": "severe-garden",
   "metadata": {},
   "outputs": [
    {
     "name": "stderr",
     "output_type": "stream",
     "text": [
      "D:\\Anaconda3\\envs\\ai\\lib\\site-packages\\sklearn\\linear_model\\_logistic.py:764: ConvergenceWarning: lbfgs failed to converge (status=1):\n",
      "STOP: TOTAL NO. of ITERATIONS REACHED LIMIT.\n",
      "\n",
      "Increase the number of iterations (max_iter) or scale the data as shown in:\n",
      "    https://scikit-learn.org/stable/modules/preprocessing.html\n",
      "Please also refer to the documentation for alternative solver options:\n",
      "    https://scikit-learn.org/stable/modules/linear_model.html#logistic-regression\n",
      "  extra_warning_msg=_LOGISTIC_SOLVER_CONVERGENCE_MSG)\n"
     ]
    },
    {
     "data": {
      "text/plain": [
       "0.9092857142857143"
      ]
     },
     "execution_count": 156,
     "metadata": {},
     "output_type": "execute_result"
    }
   ],
   "source": [
    "# Logistic Regression without applying PCA\n",
    "# default solver is incredibly slow which is why it was changed to 'lbfgs'\n",
    "logisticRegr = LogisticRegression(solver = 'lbfgs')\n",
    "logisticRegr.fit(train_img, train_lbl)\n",
    "\n",
    "# Predict for One Observation (image)\n",
    "logisticRegr.predict(test_img[0].reshape(1,-1))\n",
    "# Predict for One Observation (image)\n",
    "logisticRegr.predict(test_img[0:10])\n",
    "logisticRegr.score(test_img, test_lbl)"
   ]
  },
  {
   "cell_type": "code",
   "execution_count": 157,
   "id": "political-algebra",
   "metadata": {},
   "outputs": [
    {
     "name": "stderr",
     "output_type": "stream",
     "text": [
      "D:\\Anaconda3\\envs\\ai\\lib\\site-packages\\sklearn\\linear_model\\_logistic.py:764: ConvergenceWarning: lbfgs failed to converge (status=1):\n",
      "STOP: TOTAL NO. of ITERATIONS REACHED LIMIT.\n",
      "\n",
      "Increase the number of iterations (max_iter) or scale the data as shown in:\n",
      "    https://scikit-learn.org/stable/modules/preprocessing.html\n",
      "Please also refer to the documentation for alternative solver options:\n",
      "    https://scikit-learn.org/stable/modules/linear_model.html#logistic-regression\n",
      "  extra_warning_msg=_LOGISTIC_SOLVER_CONVERGENCE_MSG)\n"
     ]
    },
    {
     "data": {
      "text/plain": [
       "0.9187142857142857"
      ]
     },
     "execution_count": 157,
     "metadata": {},
     "output_type": "execute_result"
    }
   ],
   "source": [
    "# Logistic Regression with applying PCA\n",
    "from sklearn.decomposition import PCA\n",
    "\n",
    "# Make an instance of the Model\n",
    "pca = PCA(.95)\n",
    "pca.fit(train_img)\n",
    "\n",
    "train_img = pca.transform(train_img)\n",
    "test_img = pca.transform(test_img)\n",
    "\n",
    "logisticRegr = LogisticRegression(solver = 'lbfgs')\n",
    "logisticRegr.fit(train_img, train_lbl)\n",
    "\n",
    "# Predict for One Observation (image)\n",
    "logisticRegr.predict(test_img[0].reshape(1,-1))\n",
    "# Predict for One Observation (image)\n",
    "logisticRegr.predict(test_img[0:10])\n",
    "logisticRegr.score(test_img, test_lbl)"
   ]
  },
  {
   "cell_type": "markdown",
   "id": "considered-yemen",
   "metadata": {},
   "source": [
    "## Reinforcement Learning"
   ]
  },
  {
   "cell_type": "markdown",
   "id": "worth-bargain",
   "metadata": {},
   "source": [
    "### MDP using Q-learning\n",
    "Model free reinforcement learning algorithm that seeks to find the best action given the current state. It learns from action taken outside the current policy to maximize the total reward.\n",
    "\n",
    "#### Advantages:\n",
    "1. It can solve very complex problems that are difficult using conventional methods.\n",
    "2. It ignores the given policy to find the optimal policy and maximize reward.\n",
    "\n",
    "#### Disadvantages:\n",
    "1. Training neural network via Q-learning has higher variance which can cause problem while converging.\n",
    "2. Its approach to maximize reward might lead to a path with large negative reward.\n",
    "\n",
    "#### Use cases:\n",
    "1. Resource management in computer clusters\n",
    "2. Autonomous execution in robotics"
   ]
  },
  {
   "cell_type": "code",
   "execution_count": 218,
   "id": "executed-pledge",
   "metadata": {},
   "outputs": [],
   "source": [
    "# Importing libraries\n",
    "from copy import deepcopy\n",
    "import numpy as np\n",
    "import random"
   ]
  },
  {
   "cell_type": "code",
   "execution_count": 219,
   "id": "little-anxiety",
   "metadata": {},
   "outputs": [
    {
     "name": "stdout",
     "output_type": "stream",
     "text": [
      "i *\n",
      "z c\n"
     ]
    }
   ],
   "source": [
    "# Creating states for MDP\n",
    "ZOMBIE = \"z\"\n",
    "CAR = \"c\"\n",
    "ICE_CREAM = \"i\"\n",
    "EMPTY = \"*\"\n",
    "\n",
    "grid = [\n",
    "    [ICE_CREAM, EMPTY],\n",
    "    [ZOMBIE, CAR]\n",
    "]\n",
    "\n",
    "for row in grid:\n",
    "    print(' '.join(row))"
   ]
  },
  {
   "cell_type": "code",
   "execution_count": 220,
   "id": "desperate-spank",
   "metadata": {},
   "outputs": [],
   "source": [
    "# Defining State class\n",
    "class State:    \n",
    "    def __init__(self, grid, car_pos):\n",
    "        self.grid = grid\n",
    "        self.car_pos = car_pos\n",
    "        \n",
    "    def __eq__(self, other):\n",
    "        return isinstance(other, State) and self.grid == other.grid and self.car_pos == other.car_pos\n",
    "    \n",
    "    def __hash__(self):\n",
    "        return hash(str(self.grid) + str(self.car_pos))\n",
    "    \n",
    "    def __str__(self):\n",
    "        return f\"State(grid={self.grid}, car_pos={self.car_pos})\""
   ]
  },
  {
   "cell_type": "code",
   "execution_count": 221,
   "id": "detected-awareness",
   "metadata": {},
   "outputs": [],
   "source": [
    "# Defining Actions and initial state\n",
    "UP = 0\n",
    "DOWN = 1\n",
    "LEFT = 2\n",
    "RIGHT = 3\n",
    "\n",
    "ACTIONS = [UP, DOWN, LEFT, RIGHT]\n",
    "\n",
    "start_state = State(grid=grid, car_pos=[1, 1])"
   ]
  },
  {
   "cell_type": "code",
   "execution_count": 222,
   "id": "liquid-record",
   "metadata": {},
   "outputs": [],
   "source": [
    "# Defining grid and reward of each tile in the grid\n",
    "def act(state, action):\n",
    "    \n",
    "    def new_car_pos(state, action):\n",
    "        p = deepcopy(state.car_pos)\n",
    "        if action == UP:\n",
    "            p[0] = max(0, p[0] - 1)\n",
    "        elif action == DOWN:\n",
    "            p[0] = min(len(state.grid) - 1, p[0] + 1)\n",
    "        elif action == LEFT:\n",
    "            p[1] = max(0, p[1] - 1)\n",
    "        elif action == RIGHT:\n",
    "            p[1] = min(len(state.grid[0]) - 1, p[1] + 1)\n",
    "        else:\n",
    "            raise ValueError(f\"Unknown action {action}\")\n",
    "        return p\n",
    "            \n",
    "    p = new_car_pos(state, action)\n",
    "    grid_item = state.grid[p[0]][p[1]]\n",
    "    \n",
    "    new_grid = deepcopy(state.grid)\n",
    "    \n",
    "    if grid_item == ZOMBIE:\n",
    "        reward = -100\n",
    "        is_done = True\n",
    "        new_grid[p[0]][p[1]] += CAR\n",
    "    elif grid_item == ICE_CREAM:\n",
    "        reward = 1000\n",
    "        is_done = True\n",
    "        new_grid[p[0]][p[1]] += CAR\n",
    "    elif grid_item == EMPTY:\n",
    "        reward = -1\n",
    "        is_done = False\n",
    "        old = state.car_pos\n",
    "        new_grid[old[0]][old[1]] = EMPTY\n",
    "        new_grid[p[0]][p[1]] = CAR\n",
    "    elif grid_item == CAR:\n",
    "        reward = -1\n",
    "        is_done = False\n",
    "    else:\n",
    "        raise ValueError(f\"Unknown grid item {grid_item}\")\n",
    "    \n",
    "    return State(grid=new_grid, car_pos=p), reward, is_done"
   ]
  },
  {
   "cell_type": "code",
   "execution_count": 223,
   "id": "scheduled-joseph",
   "metadata": {},
   "outputs": [],
   "source": [
    "# Defining parameters\n",
    "random.seed(42) # for reproducibility\n",
    "\n",
    "N_STATES = 4\n",
    "N_EPISODES = 20\n",
    "\n",
    "MAX_EPISODE_STEPS = 100\n",
    "\n",
    "MIN_ALPHA = 0.02\n",
    "\n",
    "alphas = np.linspace(1.0, MIN_ALPHA, N_EPISODES)\n",
    "gamma = 1.0\n",
    "eps = 0.2\n",
    "\n",
    "q_table = dict()"
   ]
  },
  {
   "cell_type": "code",
   "execution_count": 224,
   "id": "authentic-mobile",
   "metadata": {},
   "outputs": [],
   "source": [
    "# Q function\n",
    "def q(state, action=None):\n",
    "    \n",
    "    if state not in q_table:\n",
    "        q_table[state] = np.zeros(len(ACTIONS))\n",
    "        \n",
    "    if action is None:\n",
    "        return q_table[state]\n",
    "    \n",
    "    return q_table[state][action]"
   ]
  },
  {
   "cell_type": "code",
   "execution_count": 225,
   "id": "downtown-lobby",
   "metadata": {},
   "outputs": [],
   "source": [
    "# Choosing action\n",
    "def choose_action(state):\n",
    "    if random.uniform(0, 1) < eps:\n",
    "        return random.choice(ACTIONS) \n",
    "    else:\n",
    "        return np.argmax(q(state))"
   ]
  },
  {
   "cell_type": "code",
   "execution_count": 226,
   "id": "periodic-warren",
   "metadata": {},
   "outputs": [
    {
     "name": "stdout",
     "output_type": "stream",
     "text": [
      "Episode 1: total reward -> 999\n",
      "Episode 2: total reward -> 998\n",
      "Episode 3: total reward -> 997\n",
      "Episode 4: total reward -> 997\n",
      "Episode 5: total reward -> 999\n",
      "Episode 6: total reward -> 999\n",
      "Episode 7: total reward -> 998\n",
      "Episode 8: total reward -> -100\n",
      "Episode 9: total reward -> -101\n",
      "Episode 10: total reward -> 999\n",
      "Episode 11: total reward -> 999\n",
      "Episode 12: total reward -> 999\n",
      "Episode 13: total reward -> 999\n",
      "Episode 14: total reward -> 999\n",
      "Episode 15: total reward -> 999\n",
      "Episode 16: total reward -> 998\n",
      "Episode 17: total reward -> 999\n",
      "Episode 18: total reward -> 999\n",
      "Episode 19: total reward -> 999\n",
      "Episode 20: total reward -> 999\n"
     ]
    }
   ],
   "source": [
    "# Iterating for learning\n",
    "for e in range(N_EPISODES):\n",
    "    \n",
    "    state = start_state\n",
    "    total_reward = 0\n",
    "    alpha = alphas[e]\n",
    "    \n",
    "    for _ in range(MAX_EPISODE_STEPS):\n",
    "        action = choose_action(state)\n",
    "        next_state, reward, done = act(state, action)\n",
    "        total_reward += reward\n",
    "        \n",
    "        q(state)[action] = q(state, action) + \\\n",
    "                alpha * (reward + gamma *  np.max(q(next_state)) - q(state, action))\n",
    "        state = next_state\n",
    "        if done:\n",
    "            break\n",
    "    print(f\"Episode {e + 1}: total reward -> {total_reward}\")"
   ]
  },
  {
   "cell_type": "code",
   "execution_count": 227,
   "id": "intelligent-bryan",
   "metadata": {},
   "outputs": [
    {
     "name": "stdout",
     "output_type": "stream",
     "text": [
      "up=998.9999564956789, down=225.12936017286486, left=-85.10182825484765, right=586.1924520375833\n"
     ]
    }
   ],
   "source": [
    "# Updated reward for each action from start state\n",
    "r = q(start_state)\n",
    "print(f\"up={r[UP]}, down={r[DOWN]}, left={r[LEFT]}, right={r[RIGHT]}\")"
   ]
  }
 ],
 "metadata": {
  "kernelspec": {
   "display_name": "Python 3",
   "language": "python",
   "name": "python3"
  },
  "language_info": {
   "codemirror_mode": {
    "name": "ipython",
    "version": 3
   },
   "file_extension": ".py",
   "mimetype": "text/x-python",
   "name": "python",
   "nbconvert_exporter": "python",
   "pygments_lexer": "ipython3",
   "version": "3.7.9"
  }
 },
 "nbformat": 4,
 "nbformat_minor": 5
}
